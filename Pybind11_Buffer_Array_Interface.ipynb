{
 "cells": [
  {
   "cell_type": "markdown",
   "metadata": {
    "ExecuteTime": {
     "end_time": "2022-03-06T06:31:23.477171Z",
     "start_time": "2022-03-06T06:31:23.472212Z"
    },
    "slideshow": {
     "slide_type": "slide"
    }
   },
   "source": [
    "## pybind11 array and buffer interface: A numpy user’s perspective\n",
    "\n",
    "![pybind11-logo](images/pybind11_logo.png)\n",
    "\n",
    "**Dboy Liao**\n",
    "\n",
    "[Medium](https://medium.com/@dboyliao)\n",
    "[GitHub](https://github.com/dboyliao)\n",
    "[LinkedIn](https://www.linkedin.com/in/yin-chen-liao-69967188/)\n",
    "[CakeResume](https://www.cakeresume.com/dboyliao)"
   ]
  },
  {
   "cell_type": "markdown",
   "metadata": {
    "slideshow": {
     "slide_type": "slide"
    }
   },
   "source": [
    "# The Numpy `ndarray`"
   ]
  },
  {
   "cell_type": "markdown",
   "metadata": {
    "slideshow": {
     "slide_type": "fragment"
    }
   },
   "source": [
    "```cpp\n",
    "int matrix[3][5];\n",
    "```"
   ]
  },
  {
   "cell_type": "markdown",
   "metadata": {
    "slideshow": {
     "slide_type": "fragment"
    }
   },
   "source": [
    "- arbitrary shape?"
   ]
  },
  {
   "cell_type": "markdown",
   "metadata": {
    "slideshow": {
     "slide_type": "fragment"
    }
   },
   "source": [
    "- flexible reshape?"
   ]
  },
  {
   "cell_type": "markdown",
   "metadata": {
    "slideshow": {
     "slide_type": "fragment"
    }
   },
   "source": [
    "- different data type?"
   ]
  },
  {
   "cell_type": "code",
   "execution_count": 1,
   "metadata": {
    "ExecuteTime": {
     "end_time": "2022-03-24T04:28:31.928082Z",
     "start_time": "2022-03-24T04:28:31.916173Z"
    },
    "slideshow": {
     "slide_type": "subslide"
    }
   },
   "outputs": [],
   "source": [
    "import numpy as np"
   ]
  },
  {
   "cell_type": "code",
   "execution_count": 2,
   "metadata": {
    "ExecuteTime": {
     "end_time": "2022-03-24T04:28:31.976447Z",
     "start_time": "2022-03-24T04:28:31.955759Z"
    },
    "slideshow": {
     "slide_type": "fragment"
    }
   },
   "outputs": [
    {
     "data": {
      "text/plain": [
       "array([[ 0,  1,  2,  3],\n",
       "       [ 4,  5,  6,  7],\n",
       "       [ 8,  9, 10, 11],\n",
       "       [12, 13, 14, 15]], dtype=int8)"
      ]
     },
     "execution_count": 2,
     "metadata": {},
     "output_type": "execute_result"
    }
   ],
   "source": [
    "array = np.arange(16, dtype=np.int8).reshape(4, 4).copy()\n",
    "array"
   ]
  },
  {
   "cell_type": "markdown",
   "metadata": {
    "slideshow": {
     "slide_type": "fragment"
    }
   },
   "source": [
    "```python\n",
    "array.shape\n",
    "```"
   ]
  },
  {
   "cell_type": "markdown",
   "metadata": {
    "slideshow": {
     "slide_type": "fragment"
    }
   },
   "source": [
    "```\n",
    "array.strides\n",
    "```"
   ]
  },
  {
   "cell_type": "markdown",
   "metadata": {
    "slideshow": {
     "slide_type": "fragment"
    }
   },
   "source": [
    "```python\n",
    "array.data\n",
    "```"
   ]
  },
  {
   "cell_type": "markdown",
   "metadata": {
    "slideshow": {
     "slide_type": "fragment"
    }
   },
   "source": [
    "```python\n",
    "array.base\n",
    "```"
   ]
  },
  {
   "cell_type": "code",
   "execution_count": 3,
   "metadata": {
    "ExecuteTime": {
     "end_time": "2022-03-24T04:28:32.027062Z",
     "start_time": "2022-03-24T04:28:31.983302Z"
    },
    "slideshow": {
     "slide_type": "fragment"
    }
   },
   "outputs": [
    {
     "data": {
      "text/plain": [
       "<module 'numpy.lib.stride_tricks' from '/Users/dboyliao/.pyenv/versions/3.8.1/lib/python3.8/site-packages/numpy/lib/stride_tricks.py'>"
      ]
     },
     "execution_count": 3,
     "metadata": {},
     "output_type": "execute_result"
    }
   ],
   "source": [
    "np.lib.stride_tricks"
   ]
  },
  {
   "cell_type": "markdown",
   "metadata": {
    "slideshow": {
     "slide_type": "slide"
    }
   },
   "source": [
    "![array-2d](images/array_2d.drawio.svg)"
   ]
  },
  {
   "cell_type": "code",
   "execution_count": 4,
   "metadata": {
    "ExecuteTime": {
     "end_time": "2022-03-24T04:28:32.033506Z",
     "start_time": "2022-03-24T04:28:32.030557Z"
    },
    "slideshow": {
     "slide_type": "fragment"
    }
   },
   "outputs": [
    {
     "name": "stdout",
     "output_type": "stream",
     "text": [
      "[[ 0  1  2  3]\n",
      " [ 4  5  6  7]\n",
      " [ 8  9 10 11]\n",
      " [12 13 14 15]]\n"
     ]
    }
   ],
   "source": [
    "print(array)"
   ]
  },
  {
   "cell_type": "markdown",
   "metadata": {
    "slideshow": {
     "slide_type": "subslide"
    }
   },
   "source": [
    "![array-2d-flatten](images/array_2d_flatten.drawio.svg)"
   ]
  },
  {
   "cell_type": "code",
   "execution_count": 5,
   "metadata": {
    "ExecuteTime": {
     "end_time": "2022-03-24T04:28:32.041909Z",
     "start_time": "2022-03-24T04:28:32.035687Z"
    },
    "slideshow": {
     "slide_type": "fragment"
    }
   },
   "outputs": [
    {
     "data": {
      "text/plain": [
       "array([ 0,  1,  2,  3,  4,  5,  6,  7,  8,  9, 10, 11, 12, 13, 14, 15],\n",
       "      dtype=int8)"
      ]
     },
     "execution_count": 5,
     "metadata": {},
     "output_type": "execute_result"
    }
   ],
   "source": [
    "arr_flatten = array.ravel()\n",
    "arr_flatten"
   ]
  },
  {
   "cell_type": "code",
   "execution_count": 6,
   "metadata": {
    "ExecuteTime": {
     "end_time": "2022-03-24T04:28:32.049089Z",
     "start_time": "2022-03-24T04:28:32.044480Z"
    },
    "slideshow": {
     "slide_type": "subslide"
    }
   },
   "outputs": [
    {
     "name": "stdout",
     "output_type": "stream",
     "text": [
      "1 == 4 * 0 + 1 * 1: True\n",
      "6 == 4 * 1 + 1 * 2: True\n"
     ]
    }
   ],
   "source": [
    "print(\"1 == 4 * 0 + 1 * 1:\", 1 == 4*0 + 1*1)\n",
    "print(\"6 == 4 * 1 + 1 * 2:\", 6 == 4*1 + 1*2)"
   ]
  },
  {
   "cell_type": "code",
   "execution_count": 7,
   "metadata": {
    "ExecuteTime": {
     "end_time": "2022-03-24T04:28:32.061477Z",
     "start_time": "2022-03-24T04:28:32.056396Z"
    },
    "slideshow": {
     "slide_type": "fragment"
    }
   },
   "outputs": [
    {
     "name": "stdout",
     "output_type": "stream",
     "text": [
      "arr_flatten[1] == array[0, 1]: True\n",
      "arr_flatten[6] == array[1, 2]: True\n"
     ]
    }
   ],
   "source": [
    "print(\"arr_flatten[1] == array[0, 1]:\", arr_flatten[1] == array[0, 1])\n",
    "print(\"arr_flatten[6] == array[1, 2]:\", arr_flatten[6] == array[1, 2])"
   ]
  },
  {
   "cell_type": "code",
   "execution_count": 8,
   "metadata": {
    "ExecuteTime": {
     "end_time": "2022-03-24T04:28:32.068685Z",
     "start_time": "2022-03-24T04:28:32.064704Z"
    },
    "slideshow": {
     "slide_type": "fragment"
    }
   },
   "outputs": [
    {
     "data": {
      "text/plain": [
       "(4, 1)"
      ]
     },
     "execution_count": 8,
     "metadata": {},
     "output_type": "execute_result"
    }
   ],
   "source": [
    "array.strides"
   ]
  },
  {
   "cell_type": "markdown",
   "metadata": {
    "slideshow": {
     "slide_type": "subslide"
    }
   },
   "source": [
    "![array-2d-view](images/array_2d_view.drawio.svg)"
   ]
  },
  {
   "cell_type": "code",
   "execution_count": 9,
   "metadata": {
    "ExecuteTime": {
     "end_time": "2022-03-24T04:28:32.076433Z",
     "start_time": "2022-03-24T04:28:32.070797Z"
    },
    "slideshow": {
     "slide_type": "subslide"
    }
   },
   "outputs": [
    {
     "data": {
      "text/plain": [
       "array([[[[ 0,  1],\n",
       "         [ 2,  3]],\n",
       "\n",
       "        [[ 4,  5],\n",
       "         [ 6,  7]]],\n",
       "\n",
       "\n",
       "       [[[ 8,  9],\n",
       "         [10, 11]],\n",
       "\n",
       "        [[12, 13],\n",
       "         [14, 15]]]], dtype=int8)"
      ]
     },
     "execution_count": 9,
     "metadata": {},
     "output_type": "execute_result"
    }
   ],
   "source": [
    "arr3 = array.reshape(2, 2, 2, 2)\n",
    "arr3"
   ]
  },
  {
   "cell_type": "code",
   "execution_count": 10,
   "metadata": {
    "ExecuteTime": {
     "end_time": "2022-03-24T04:28:32.082240Z",
     "start_time": "2022-03-24T04:28:32.078655Z"
    },
    "slideshow": {
     "slide_type": "subslide"
    }
   },
   "outputs": [
    {
     "data": {
      "text/plain": [
       "(8, 4, 2, 1)"
      ]
     },
     "execution_count": 10,
     "metadata": {},
     "output_type": "execute_result"
    }
   ],
   "source": [
    "arr3.strides"
   ]
  },
  {
   "cell_type": "code",
   "execution_count": 11,
   "metadata": {
    "ExecuteTime": {
     "end_time": "2022-03-24T04:28:32.087966Z",
     "start_time": "2022-03-24T04:28:32.084437Z"
    },
    "slideshow": {
     "slide_type": "fragment"
    }
   },
   "outputs": [
    {
     "name": "stdout",
     "output_type": "stream",
     "text": [
      "11 == 8 * 1 + 4 * 0 + 2 * 1 + 1 * 1: True\n"
     ]
    }
   ],
   "source": [
    "print(\"11 == 8 * 1 + 4 * 0 + 2 * 1 + 1 * 1:\", 11 == 8 * 1 + 4 * 0 + 2 * 1 + 1 * 1)"
   ]
  },
  {
   "cell_type": "code",
   "execution_count": 12,
   "metadata": {
    "ExecuteTime": {
     "end_time": "2022-03-24T04:28:32.095501Z",
     "start_time": "2022-03-24T04:28:32.090616Z"
    },
    "slideshow": {
     "slide_type": "fragment"
    }
   },
   "outputs": [
    {
     "data": {
      "text/plain": [
       "True"
      ]
     },
     "execution_count": 12,
     "metadata": {},
     "output_type": "execute_result"
    }
   ],
   "source": [
    "arr_flatten[11] == arr3[1, 0, 1, 1]"
   ]
  },
  {
   "cell_type": "markdown",
   "metadata": {
    "slideshow": {
     "slide_type": "subslide"
    }
   },
   "source": [
    "- linear offset: the offset of an element in the flattened array\n",
    "- $\\mathbf{arr}$: a m-dims array\n",
    "    - strides: $(s_0, s_1, ..., s_m)$\n",
    "    - shape: $(d_0, d_1, ..., d_m)$\n",
    "- $e = \\mathbf{arr}[i_0, i_1, ..., i_m]$, element in $\\mathbf{arr}$\n",
    "    - with linear offset $\\text{offset}_e$\n",
    "\n",
    "Then we have:\n",
    "\n",
    "$$\n",
    "    \\text{offset}_e = \\sum\\limits_{j=0}^{m} s_j \\cdot i_j\n",
    "$$"
   ]
  },
  {
   "cell_type": "markdown",
   "metadata": {
    "slideshow": {
     "slide_type": "subslide"
    }
   },
   "source": [
    "![okey-then-what](images/okey_then_what.jpg)"
   ]
  },
  {
   "cell_type": "markdown",
   "metadata": {
    "slideshow": {
     "slide_type": "subslide"
    }
   },
   "source": [
    "## Broadcasting Rule: From Scratch\n",
    "\n",
    "[Numpy Documentation](https://numpy.org/doc/stable/user/basics.broadcasting.html#general-broadcasting-rules)"
   ]
  },
  {
   "cell_type": "markdown",
   "metadata": {
    "slideshow": {
     "slide_type": "subslide"
    }
   },
   "source": [
    "![np-boradcasting](images/np_broadcasting.png)"
   ]
  },
  {
   "cell_type": "code",
   "execution_count": 13,
   "metadata": {
    "ExecuteTime": {
     "end_time": "2022-03-24T04:28:33.190972Z",
     "start_time": "2022-03-24T04:28:33.184355Z"
    },
    "slideshow": {
     "slide_type": "fragment"
    }
   },
   "outputs": [],
   "source": [
    "a = np.zeros((4, 3), dtype=np.int8)\n",
    "a[1] = 10\n",
    "a[2] = 20\n",
    "a[3] = 30\n",
    "b = np.array([1, 2, 3], dtype=np.int8)"
   ]
  },
  {
   "cell_type": "code",
   "execution_count": 14,
   "metadata": {
    "ExecuteTime": {
     "end_time": "2022-03-24T04:28:38.184258Z",
     "start_time": "2022-03-24T04:28:38.160059Z"
    },
    "slideshow": {
     "slide_type": "subslide"
    }
   },
   "outputs": [
    {
     "data": {
      "text/plain": [
       "(4, 3)"
      ]
     },
     "execution_count": 14,
     "metadata": {},
     "output_type": "execute_result"
    }
   ],
   "source": [
    "a.shape"
   ]
  },
  {
   "cell_type": "code",
   "execution_count": 15,
   "metadata": {
    "ExecuteTime": {
     "end_time": "2022-03-24T04:28:41.136663Z",
     "start_time": "2022-03-24T04:28:41.131157Z"
    },
    "slideshow": {
     "slide_type": "fragment"
    }
   },
   "outputs": [
    {
     "data": {
      "text/plain": [
       "(3,)"
      ]
     },
     "execution_count": 15,
     "metadata": {},
     "output_type": "execute_result"
    }
   ],
   "source": [
    "b.shape"
   ]
  },
  {
   "cell_type": "code",
   "execution_count": 16,
   "metadata": {
    "ExecuteTime": {
     "end_time": "2022-03-24T04:29:19.620873Z",
     "start_time": "2022-03-24T04:29:19.609332Z"
    },
    "slideshow": {
     "slide_type": "fragment"
    }
   },
   "outputs": [
    {
     "data": {
      "text/plain": [
       "array([[ 1,  2,  3],\n",
       "       [11, 12, 13],\n",
       "       [21, 22, 23],\n",
       "       [31, 32, 33]], dtype=int8)"
      ]
     },
     "execution_count": 16,
     "metadata": {},
     "output_type": "execute_result"
    }
   ],
   "source": [
    "a + b"
   ]
  },
  {
   "cell_type": "code",
   "execution_count": 17,
   "metadata": {
    "ExecuteTime": {
     "end_time": "2022-03-24T04:29:26.746108Z",
     "start_time": "2022-03-24T04:29:26.736041Z"
    },
    "slideshow": {
     "slide_type": "subslide"
    }
   },
   "outputs": [
    {
     "data": {
      "text/plain": [
       "(1,)"
      ]
     },
     "execution_count": 17,
     "metadata": {},
     "output_type": "execute_result"
    }
   ],
   "source": [
    "b.strides"
   ]
  },
  {
   "cell_type": "code",
   "execution_count": 18,
   "metadata": {
    "ExecuteTime": {
     "end_time": "2022-03-24T04:29:36.575580Z",
     "start_time": "2022-03-24T04:29:36.569567Z"
    },
    "slideshow": {
     "slide_type": "fragment"
    }
   },
   "outputs": [],
   "source": [
    "# promote b: make it of the shape as a\n",
    "b_promoted = np.lib.stride_tricks.as_strided(\n",
    "    b,\n",
    "    shape=a.shape,\n",
    "    strides=(0,)+b.strides\n",
    ")"
   ]
  },
  {
   "cell_type": "code",
   "execution_count": 19,
   "metadata": {
    "ExecuteTime": {
     "end_time": "2022-03-24T04:29:41.120125Z",
     "start_time": "2022-03-24T04:29:41.113812Z"
    },
    "slideshow": {
     "slide_type": "subslide"
    }
   },
   "outputs": [
    {
     "data": {
      "text/plain": [
       "(4, 3)"
      ]
     },
     "execution_count": 19,
     "metadata": {},
     "output_type": "execute_result"
    }
   ],
   "source": [
    "b_promoted.shape"
   ]
  },
  {
   "cell_type": "code",
   "execution_count": 20,
   "metadata": {
    "ExecuteTime": {
     "end_time": "2022-03-24T04:29:44.598032Z",
     "start_time": "2022-03-24T04:29:44.588801Z"
    },
    "slideshow": {
     "slide_type": "fragment"
    }
   },
   "outputs": [
    {
     "data": {
      "text/plain": [
       "array([[1, 2, 3],\n",
       "       [1, 2, 3],\n",
       "       [1, 2, 3],\n",
       "       [1, 2, 3]], dtype=int8)"
      ]
     },
     "execution_count": 20,
     "metadata": {},
     "output_type": "execute_result"
    }
   ],
   "source": [
    "b_promoted"
   ]
  },
  {
   "cell_type": "code",
   "execution_count": 21,
   "metadata": {
    "ExecuteTime": {
     "end_time": "2022-03-24T04:29:47.871234Z",
     "start_time": "2022-03-24T04:29:47.865573Z"
    },
    "slideshow": {
     "slide_type": "subslide"
    }
   },
   "outputs": [
    {
     "data": {
      "text/plain": [
       "(0, 1)"
      ]
     },
     "execution_count": 21,
     "metadata": {},
     "output_type": "execute_result"
    }
   ],
   "source": [
    "b_promoted.strides"
   ]
  },
  {
   "cell_type": "markdown",
   "metadata": {
    "slideshow": {
     "slide_type": "fragment"
    }
   },
   "source": [
    "`b_promoted[1, 1]`\n",
    "\n",
    "- linear offset = 0 \\* 1 + 1 \\* 1 = 1\n",
    "- `b_promoted[1, 1] == b[1] # 2`"
   ]
  },
  {
   "cell_type": "markdown",
   "metadata": {
    "slideshow": {
     "slide_type": "fragment"
    }
   },
   "source": [
    "![np-broadcasting-b-1](images/np_broadcasting_b_1.png)"
   ]
  },
  {
   "cell_type": "markdown",
   "metadata": {
    "slideshow": {
     "slide_type": "subslide"
    }
   },
   "source": [
    "`b_promoted[3, 2]`\n",
    "\n",
    "- linear offset = 0 \\* 3 + 1 \\* 2 = 2\n",
    "- `b_promoted[3, 2] == b[2] # 3`"
   ]
  },
  {
   "cell_type": "markdown",
   "metadata": {
    "slideshow": {
     "slide_type": "fragment"
    }
   },
   "source": [
    "![np-broadcasting-b-2](images/np_broadcasting_b_2.png)"
   ]
  },
  {
   "cell_type": "code",
   "execution_count": 22,
   "metadata": {
    "ExecuteTime": {
     "end_time": "2022-03-24T04:29:59.733462Z",
     "start_time": "2022-03-24T04:29:59.723898Z"
    },
    "slideshow": {
     "slide_type": "subslide"
    }
   },
   "outputs": [
    {
     "data": {
      "text/plain": [
       "True"
      ]
     },
     "execution_count": 22,
     "metadata": {},
     "output_type": "execute_result"
    }
   ],
   "source": [
    "np.alltrue(a + b == a + b_promoted)"
   ]
  },
  {
   "cell_type": "code",
   "execution_count": 23,
   "metadata": {
    "ExecuteTime": {
     "end_time": "2022-03-24T04:30:10.615433Z",
     "start_time": "2022-03-24T04:30:10.608920Z"
    },
    "slideshow": {
     "slide_type": "fragment"
    }
   },
   "outputs": [],
   "source": [
    "a_promoted_lib, b_promoted_lib = np.lib.stride_tricks.broadcast_arrays(a, b)"
   ]
  },
  {
   "cell_type": "code",
   "execution_count": 24,
   "metadata": {
    "ExecuteTime": {
     "end_time": "2022-03-24T04:30:14.945073Z",
     "start_time": "2022-03-24T04:30:14.931825Z"
    },
    "slideshow": {
     "slide_type": "fragment"
    }
   },
   "outputs": [
    {
     "data": {
      "text/plain": [
       "(0, 1)"
      ]
     },
     "execution_count": 24,
     "metadata": {},
     "output_type": "execute_result"
    }
   ],
   "source": [
    "b_promoted_lib.strides"
   ]
  },
  {
   "cell_type": "code",
   "execution_count": 25,
   "metadata": {
    "ExecuteTime": {
     "end_time": "2022-03-24T04:30:26.779362Z",
     "start_time": "2022-03-24T04:30:26.772343Z"
    },
    "slideshow": {
     "slide_type": "fragment"
    }
   },
   "outputs": [
    {
     "data": {
      "text/plain": [
       "True"
      ]
     },
     "execution_count": 25,
     "metadata": {},
     "output_type": "execute_result"
    }
   ],
   "source": [
    "# b is the owner of the underlying memory block\n",
    "b.base is None"
   ]
  },
  {
   "cell_type": "code",
   "execution_count": 26,
   "metadata": {
    "ExecuteTime": {
     "end_time": "2022-03-24T04:30:35.228825Z",
     "start_time": "2022-03-24T04:30:35.222382Z"
    },
    "slideshow": {
     "slide_type": "fragment"
    }
   },
   "outputs": [
    {
     "data": {
      "text/plain": [
       "True"
      ]
     },
     "execution_count": 26,
     "metadata": {},
     "output_type": "execute_result"
    }
   ],
   "source": [
    "# b_promoted_lib is just a shared-memory view of b\n",
    "b_promoted_lib.base is b"
   ]
  },
  {
   "cell_type": "code",
   "execution_count": 27,
   "metadata": {
    "ExecuteTime": {
     "end_time": "2022-03-24T04:30:39.887013Z",
     "start_time": "2022-03-24T04:30:39.872340Z"
    },
    "slideshow": {
     "slide_type": "fragment"
    }
   },
   "outputs": [
    {
     "data": {
      "text/plain": [
       "array([[ 0,  0,  0],\n",
       "       [10, 10, 10],\n",
       "       [20, 20, 20],\n",
       "       [30, 30, 30]], dtype=int8)"
      ]
     },
     "execution_count": 27,
     "metadata": {},
     "output_type": "execute_result"
    }
   ],
   "source": [
    "np.lib.stride_tricks.as_strided(np.array([0, 10, 20, 30], dtype=np.int8), shape=(4, 3), strides=(1, 0))"
   ]
  },
  {
   "cell_type": "code",
   "execution_count": 28,
   "metadata": {
    "ExecuteTime": {
     "end_time": "2022-03-24T04:30:42.530107Z",
     "start_time": "2022-03-24T04:30:42.525903Z"
    },
    "slideshow": {
     "slide_type": "subslide"
    }
   },
   "outputs": [
    {
     "data": {
      "text/plain": [
       "True"
      ]
     },
     "execution_count": 28,
     "metadata": {},
     "output_type": "execute_result"
    }
   ],
   "source": [
    "array.flatten().base is None"
   ]
  },
  {
   "cell_type": "code",
   "execution_count": 29,
   "metadata": {
    "ExecuteTime": {
     "end_time": "2022-03-24T04:30:44.037178Z",
     "start_time": "2022-03-24T04:30:44.027128Z"
    },
    "slideshow": {
     "slide_type": "fragment"
    }
   },
   "outputs": [
    {
     "data": {
      "text/plain": [
       "False"
      ]
     },
     "execution_count": 29,
     "metadata": {},
     "output_type": "execute_result"
    }
   ],
   "source": [
    "array.ravel().base is None"
   ]
  },
  {
   "cell_type": "markdown",
   "metadata": {
    "slideshow": {
     "slide_type": "subslide"
    }
   },
   "source": [
    "![okey-then-what](images/okey_then_what.jpg)"
   ]
  },
  {
   "cell_type": "markdown",
   "metadata": {
    "slideshow": {
     "slide_type": "subslide"
    }
   },
   "source": [
    "## Time Series: Sliding Window with Shared-Memory View"
   ]
  },
  {
   "cell_type": "code",
   "execution_count": 30,
   "metadata": {
    "ExecuteTime": {
     "end_time": "2022-03-24T04:30:50.081396Z",
     "start_time": "2022-03-24T04:30:50.076764Z"
    },
    "slideshow": {
     "slide_type": "subslide"
    }
   },
   "outputs": [
    {
     "data": {
      "text/plain": [
       "array([ 0,  1,  2,  3,  4,  5,  6,  7,  8,  9, 10, 11, 12, 13, 14, 15, 16,\n",
       "       17, 18, 19], dtype=int8)"
      ]
     },
     "execution_count": 30,
     "metadata": {},
     "output_type": "execute_result"
    }
   ],
   "source": [
    "data = np.arange(20, dtype=np.int8)\n",
    "data"
   ]
  },
  {
   "cell_type": "code",
   "execution_count": 31,
   "metadata": {
    "ExecuteTime": {
     "end_time": "2022-03-24T04:30:52.997149Z",
     "start_time": "2022-03-24T04:30:52.993000Z"
    },
    "slideshow": {
     "slide_type": "subslide"
    }
   },
   "outputs": [],
   "source": [
    "windows = np.lib.stride_tricks.as_strided(\n",
    "    data,\n",
    "    shape=(16, 5),\n",
    "    strides=(1, 1)\n",
    ")"
   ]
  },
  {
   "cell_type": "code",
   "execution_count": 32,
   "metadata": {
    "ExecuteTime": {
     "end_time": "2022-03-24T04:30:53.817214Z",
     "start_time": "2022-03-24T04:30:53.798281Z"
    },
    "slideshow": {
     "slide_type": "fragment"
    }
   },
   "outputs": [
    {
     "data": {
      "text/plain": [
       "array([[ 0,  1,  2,  3,  4],\n",
       "       [ 1,  2,  3,  4,  5],\n",
       "       [ 2,  3,  4,  5,  6],\n",
       "       [ 3,  4,  5,  6,  7],\n",
       "       [ 4,  5,  6,  7,  8],\n",
       "       [ 5,  6,  7,  8,  9],\n",
       "       [ 6,  7,  8,  9, 10],\n",
       "       [ 7,  8,  9, 10, 11],\n",
       "       [ 8,  9, 10, 11, 12],\n",
       "       [ 9, 10, 11, 12, 13],\n",
       "       [10, 11, 12, 13, 14],\n",
       "       [11, 12, 13, 14, 15],\n",
       "       [12, 13, 14, 15, 16],\n",
       "       [13, 14, 15, 16, 17],\n",
       "       [14, 15, 16, 17, 18],\n",
       "       [15, 16, 17, 18, 19]], dtype=int8)"
      ]
     },
     "execution_count": 32,
     "metadata": {},
     "output_type": "execute_result"
    }
   ],
   "source": [
    "windows"
   ]
  },
  {
   "cell_type": "code",
   "execution_count": 33,
   "metadata": {
    "ExecuteTime": {
     "end_time": "2022-03-17T04:45:58.428182Z",
     "start_time": "2022-03-17T04:45:58.420776Z"
    },
    "slideshow": {
     "slide_type": "subslide"
    }
   },
   "outputs": [],
   "source": [
    "X = windows[:, :4]\n",
    "Y = windows[:, 4]"
   ]
  },
  {
   "cell_type": "code",
   "execution_count": 34,
   "metadata": {
    "ExecuteTime": {
     "end_time": "2022-03-17T04:45:58.445777Z",
     "start_time": "2022-03-17T04:45:58.434006Z"
    },
    "slideshow": {
     "slide_type": "fragment"
    }
   },
   "outputs": [
    {
     "data": {
      "text/plain": [
       "array([[ 0,  1,  2,  3],\n",
       "       [ 1,  2,  3,  4],\n",
       "       [ 2,  3,  4,  5],\n",
       "       [ 3,  4,  5,  6],\n",
       "       [ 4,  5,  6,  7],\n",
       "       [ 5,  6,  7,  8],\n",
       "       [ 6,  7,  8,  9],\n",
       "       [ 7,  8,  9, 10],\n",
       "       [ 8,  9, 10, 11],\n",
       "       [ 9, 10, 11, 12],\n",
       "       [10, 11, 12, 13],\n",
       "       [11, 12, 13, 14],\n",
       "       [12, 13, 14, 15],\n",
       "       [13, 14, 15, 16],\n",
       "       [14, 15, 16, 17],\n",
       "       [15, 16, 17, 18]], dtype=int8)"
      ]
     },
     "execution_count": 34,
     "metadata": {},
     "output_type": "execute_result"
    }
   ],
   "source": [
    "X"
   ]
  },
  {
   "cell_type": "code",
   "execution_count": 35,
   "metadata": {
    "ExecuteTime": {
     "end_time": "2022-03-17T04:45:58.458634Z",
     "start_time": "2022-03-17T04:45:58.451134Z"
    },
    "slideshow": {
     "slide_type": "subslide"
    }
   },
   "outputs": [
    {
     "data": {
      "text/plain": [
       "array([ 4,  5,  6,  7,  8,  9, 10, 11, 12, 13, 14, 15, 16, 17, 18, 19],\n",
       "      dtype=int8)"
      ]
     },
     "execution_count": 35,
     "metadata": {},
     "output_type": "execute_result"
    }
   ],
   "source": [
    "Y"
   ]
  },
  {
   "cell_type": "code",
   "execution_count": 36,
   "metadata": {
    "ExecuteTime": {
     "end_time": "2022-03-17T04:45:58.467431Z",
     "start_time": "2022-03-17T04:45:58.461556Z"
    },
    "slideshow": {
     "slide_type": "subslide"
    }
   },
   "outputs": [
    {
     "data": {
      "text/plain": [
       "True"
      ]
     },
     "execution_count": 36,
     "metadata": {},
     "output_type": "execute_result"
    }
   ],
   "source": [
    "X.base is windows"
   ]
  },
  {
   "cell_type": "code",
   "execution_count": 37,
   "metadata": {
    "ExecuteTime": {
     "end_time": "2022-03-17T04:45:58.476781Z",
     "start_time": "2022-03-17T04:45:58.471737Z"
    },
    "slideshow": {
     "slide_type": "fragment"
    }
   },
   "outputs": [
    {
     "data": {
      "text/plain": [
       "True"
      ]
     },
     "execution_count": 37,
     "metadata": {},
     "output_type": "execute_result"
    }
   ],
   "source": [
    "Y.base is windows"
   ]
  },
  {
   "cell_type": "code",
   "execution_count": 38,
   "metadata": {
    "ExecuteTime": {
     "end_time": "2022-03-17T04:45:58.485126Z",
     "start_time": "2022-03-17T04:45:58.480790Z"
    },
    "slideshow": {
     "slide_type": "subslide"
    }
   },
   "outputs": [],
   "source": [
    "# X = windows[:, :4]\n",
    "X2 = windows[:, [0, 1, 2, 3]]"
   ]
  },
  {
   "cell_type": "code",
   "execution_count": 39,
   "metadata": {
    "ExecuteTime": {
     "end_time": "2022-03-17T04:45:58.497163Z",
     "start_time": "2022-03-17T04:45:58.488993Z"
    },
    "slideshow": {
     "slide_type": "fragment"
    }
   },
   "outputs": [
    {
     "data": {
      "text/plain": [
       "True"
      ]
     },
     "execution_count": 39,
     "metadata": {},
     "output_type": "execute_result"
    }
   ],
   "source": [
    "np.alltrue(X2 == X)"
   ]
  },
  {
   "cell_type": "code",
   "execution_count": 40,
   "metadata": {
    "ExecuteTime": {
     "end_time": "2022-03-17T04:45:58.504843Z",
     "start_time": "2022-03-17T04:45:58.500224Z"
    },
    "slideshow": {
     "slide_type": "fragment"
    }
   },
   "outputs": [
    {
     "data": {
      "text/plain": [
       "False"
      ]
     },
     "execution_count": 40,
     "metadata": {},
     "output_type": "execute_result"
    }
   ],
   "source": [
    "X2.base is windows"
   ]
  },
  {
   "cell_type": "markdown",
   "metadata": {
    "slideshow": {
     "slide_type": "subslide"
    }
   },
   "source": [
    "- Python Data Model: **\\_\\_getitem\\_\\_**\n",
    "    - [link](https://docs.python.org/3/reference/datamodel.html#object.__getitem__)"
   ]
  },
  {
   "cell_type": "markdown",
   "metadata": {
    "slideshow": {
     "slide_type": "fragment"
    }
   },
   "source": [
    "- `start:end:step` is a short-hand for `slice` object\n",
    "    - has **FIXED** pattern (fixed start, fixed end, fixed step)\n",
    "    - can be convert to a set of corresponding strides\n",
    "    - shared-memory view is possible\n",
    "    - **NO COPY REQUIRED**"
   ]
  },
  {
   "cell_type": "markdown",
   "metadata": {
    "slideshow": {
     "slide_type": "fragment"
    }
   },
   "source": [
    "- a list of indices\n",
    "    - no guarantee on the pattern of the indices contained\n",
    "    - cannot be convert to a set of corresponding strides\n",
    "    - **COPY IS A MUST**"
   ]
  },
  {
   "cell_type": "markdown",
   "metadata": {
    "slideshow": {
     "slide_type": "slide"
    }
   },
   "source": [
    "![see-c-cpp](images/see-c-cpp.jpg)"
   ]
  },
  {
   "cell_type": "markdown",
   "metadata": {
    "slideshow": {
     "slide_type": "slide"
    }
   },
   "source": [
    "# `pybind11` Buffer and Array Interface\n",
    "\n",
    "[Documentation](https://pybind11.readthedocs.io/en/stable/advanced/pycpp/numpy.html#numpy)"
   ]
  },
  {
   "cell_type": "markdown",
   "metadata": {
    "slideshow": {
     "slide_type": "fragment"
    }
   },
   "source": [
    "- Good tutorial to CPython buffer protocol\n",
    "    - https://jakevdp.github.io/blog/2014/05/05/introduction-to-the-python-buffer-protocol/\n",
    "    - CPython Bufferinfo object: https://docs.python.org/3/c-api/buffer.html#buffer-structure\n",
    "    - **WARN**: long and tedious C code"
   ]
  },
  {
   "cell_type": "markdown",
   "metadata": {
    "slideshow": {
     "slide_type": "fragment"
    }
   },
   "source": [
    "- `pybind11` make it easy to expose your type in C++ to Python via buffer protocol"
   ]
  },
  {
   "cell_type": "markdown",
   "metadata": {
    "slideshow": {
     "slide_type": "subslide"
    }
   },
   "source": [
    "```cmake\n",
    "cmake_minimum_required(VERSION 3.10)\n",
    "project(python_example)\n",
    "\n",
    "add_subdirectory(thirdparty/pybind11)\n",
    "\n",
    "set(CMAKE_VERBOSE_MAKEFILE ON)\n",
    "\n",
    "file(GLOB_RECURSE MYLIB_SRC \"${CMAKE_SOURCE_DIR}/src/*.cpp\" \"${CMAKE_SOURCE_DIR}/src/*.c\")\n",
    "pybind11_add_module(_mylib SHARED ${MYLIB_SRC})\n",
    "target_include_directories(_mylib PRIVATE include)\n",
    "set_target_properties(\n",
    "    _mylib\n",
    "    PROPERTIES LIBRARY_OUTPUT_DIRECTORY ${CMAKE_SOURCE_DIR}/mylib\n",
    ")\n",
    "```"
   ]
  },
  {
   "cell_type": "code",
   "execution_count": 41,
   "metadata": {
    "ExecuteTime": {
     "end_time": "2022-03-17T04:45:59.184304Z",
     "start_time": "2022-03-17T04:45:58.507394Z"
    },
    "slideshow": {
     "slide_type": "subslide"
    }
   },
   "outputs": [
    {
     "name": "stdout",
     "output_type": "stream",
     "text": [
      "mkdir -p build; \\\n",
      "\tcmake -DPYTHON_EXECUTABLE=$(pyenv which python3) -S . -B build -DCMAKE_BUILD_TYPE=Debug; \\\n",
      "\tcmake --build build\n",
      "-- pybind11 v2.9.1 \n",
      "-- Configuring done\n",
      "-- Generating done\n",
      "-- Build files have been written to: /Users/dboyliao/Documents/Talks/TaipeiPy/pybind11_array_buffer/build\n",
      "/usr/local/Cellar/cmake/3.20.5/bin/cmake -S/Users/dboyliao/Documents/Talks/TaipeiPy/pybind11_array_buffer -B/Users/dboyliao/Documents/Talks/TaipeiPy/pybind11_array_buffer/build --check-build-system CMakeFiles/Makefile.cmake 0\n",
      "/usr/local/Cellar/cmake/3.20.5/bin/cmake -E cmake_progress_start /Users/dboyliao/Documents/Talks/TaipeiPy/pybind11_array_buffer/build/CMakeFiles /Users/dboyliao/Documents/Talks/TaipeiPy/pybind11_array_buffer/build//CMakeFiles/progress.marks\n",
      "/Applications/Xcode.app/Contents/Developer/usr/bin/make  -f CMakeFiles/Makefile2 all\n",
      "/Applications/Xcode.app/Contents/Developer/usr/bin/make  -f CMakeFiles/_mylib.dir/build.make CMakeFiles/_mylib.dir/depend\n",
      "cd /Users/dboyliao/Documents/Talks/TaipeiPy/pybind11_array_buffer/build && /usr/local/Cellar/cmake/3.20.5/bin/cmake -E cmake_depends \"Unix Makefiles\" /Users/dboyliao/Documents/Talks/TaipeiPy/pybind11_array_buffer /Users/dboyliao/Documents/Talks/TaipeiPy/pybind11_array_buffer /Users/dboyliao/Documents/Talks/TaipeiPy/pybind11_array_buffer/build /Users/dboyliao/Documents/Talks/TaipeiPy/pybind11_array_buffer/build /Users/dboyliao/Documents/Talks/TaipeiPy/pybind11_array_buffer/build/CMakeFiles/_mylib.dir/DependInfo.cmake --color=\n",
      "\u001b[35m\u001b[1mConsolidate compiler generated dependencies of target _mylib\u001b[0m\n",
      "/Applications/Xcode.app/Contents/Developer/usr/bin/make  -f CMakeFiles/_mylib.dir/build.make CMakeFiles/_mylib.dir/build\n",
      "make[3]: Nothing to be done for `CMakeFiles/_mylib.dir/build'.\n",
      "[100%] Built target _mylib\n",
      "/usr/local/Cellar/cmake/3.20.5/bin/cmake -E cmake_progress_start /Users/dboyliao/Documents/Talks/TaipeiPy/pybind11_array_buffer/build/CMakeFiles 0\n"
     ]
    }
   ],
   "source": [
    "!make lib"
   ]
  },
  {
   "cell_type": "markdown",
   "metadata": {
    "slideshow": {
     "slide_type": "subslide"
    }
   },
   "source": [
    "## `pybind11::buffer_info`"
   ]
  },
  {
   "cell_type": "markdown",
   "metadata": {
    "slideshow": {
     "slide_type": "fragment"
    }
   },
   "source": [
    "```cpp\n",
    "struct buffer_info {\n",
    "    void *ptr;                        // ndarray.data\n",
    "    py::ssize_t itemsize;             // ndarray.itemsize, element size in bytes\n",
    "    std::string format;               // Python struct format \n",
    "    py::ssize_t ndim;                 // ndarray.ndim\n",
    "    std::vector<py::ssize_t> shape;   // ndarray.shape\n",
    "    std::vector<py::ssize_t> strides; // ndarray.strides\n",
    "};\n",
    "```\n",
    "\n",
    "- [Python Style Struct Format](https://docs.python.org/3/library/struct.html#format-characters)"
   ]
  },
  {
   "cell_type": "markdown",
   "metadata": {
    "slideshow": {
     "slide_type": "subslide"
    }
   },
   "source": [
    "```cpp\n",
    "py::class_<MyMatrix>(m, \"MyMatrix\", py::buffer_protocol())\n",
    "  .def(py::init<int, int>(), py::arg(\"rows\"), py::arg(\"cols\"))\n",
    "  .def_buffer([](const MyMatrix &m) {\n",
    "    return py::buffer_info(\n",
    "        /* the memory block */\n",
    "        m.data(),\n",
    "        /* Size of one scalar */\n",
    "        sizeof(float),\n",
    "        /* string, Python struct-style format descriptor */\n",
    "        py::format_descriptor<float>::format(),\n",
    "        /* Number of dimensions */\n",
    "        2,\n",
    "        /* Buffer shape */\n",
    "        {m.rows(), m.cols()},\n",
    "        /* Strides (in bytes) for each index */\n",
    "        {sizeof(float) * m.cols(), sizeof(float)});\n",
    "  });\n",
    "```"
   ]
  },
  {
   "cell_type": "markdown",
   "metadata": {
    "slideshow": {
     "slide_type": "subslide"
    }
   },
   "source": [
    "```python\n",
    "def create_mat(rows, cols):\n",
    "    return np.array(MyMatrix(rows, cols), copy=False)\n",
    "```"
   ]
  },
  {
   "cell_type": "code",
   "execution_count": 42,
   "metadata": {
    "ExecuteTime": {
     "end_time": "2022-03-17T04:45:59.197139Z",
     "start_time": "2022-03-17T04:45:59.187343Z"
    },
    "slideshow": {
     "slide_type": "subslide"
    }
   },
   "outputs": [
    {
     "data": {
      "text/plain": [
       "array([[0., 0., 0., 0., 0.],\n",
       "       [0., 0., 0., 0., 0.],\n",
       "       [0., 0., 0., 0., 0.],\n",
       "       [0., 0., 0., 0., 0.],\n",
       "       [0., 0., 0., 0., 0.]], dtype=float32)"
      ]
     },
     "execution_count": 42,
     "metadata": {},
     "output_type": "execute_result"
    }
   ],
   "source": [
    "import mylib\n",
    "\n",
    "mylib.create_mat(5, 5)"
   ]
  },
  {
   "cell_type": "markdown",
   "metadata": {
    "slideshow": {
     "slide_type": "subslide"
    }
   },
   "source": [
    "## `pybind11::array` and `pybind11::array_t`"
   ]
  },
  {
   "cell_type": "markdown",
   "metadata": {
    "slideshow": {
     "slide_type": "subslide"
    }
   },
   "source": [
    "```cpp\n",
    "py::array_t<double> array_add_value(const py::array_t<double> &in_arr,\n",
    "                                    double v = 1.0) {\n",
    "  auto info = in_arr.request();\n",
    "  double *out_buff = new double[info.size];\n",
    "  auto in_ptr = (double *)info.ptr;\n",
    "  for (py::ssize_t idx = 0; idx < info.size; ++idx) {\n",
    "    *(out_buff + idx) = *(in_ptr + idx) + v;\n",
    "  }\n",
    "  auto out_info = py::buffer_info(out_buff, info.itemsize, info.format,\n",
    "                                  info.ndim, info.shape, info.strides);\n",
    "  return py::array_t<double>(out_info);\n",
    "}\n",
    "```"
   ]
  },
  {
   "cell_type": "code",
   "execution_count": 43,
   "metadata": {
    "ExecuteTime": {
     "end_time": "2022-03-17T04:45:59.203752Z",
     "start_time": "2022-03-17T04:45:59.199467Z"
    },
    "slideshow": {
     "slide_type": "subslide"
    }
   },
   "outputs": [
    {
     "name": "stdout",
     "output_type": "stream",
     "text": [
      "array_add_value(input_array: numpy.ndarray[numpy.float64], value: float = 0.0) -> numpy.ndarray[numpy.float64]\n",
      "\n",
      "add by given value\n",
      "\n"
     ]
    }
   ],
   "source": [
    "import mylib\n",
    "\n",
    "print(mylib.array_add_value.__doc__)"
   ]
  },
  {
   "cell_type": "code",
   "execution_count": 44,
   "metadata": {
    "ExecuteTime": {
     "end_time": "2022-03-17T04:45:46.575892Z",
     "start_time": "2022-03-17T04:45:46.569353Z"
    },
    "slideshow": {
     "slide_type": "fragment"
    }
   },
   "outputs": [
    {
     "data": {
      "text/plain": [
       "array([3.51770958, 3.49058292, 3.3391846 , 3.2065161 , 3.4542942 ])"
      ]
     },
     "execution_count": 44,
     "metadata": {},
     "output_type": "execute_result"
    }
   ],
   "source": [
    "arr_in = np.random.rand(5)\n",
    "mylib.array_add_value(arr_in, 3.1)"
   ]
  },
  {
   "cell_type": "markdown",
   "metadata": {
    "slideshow": {
     "slide_type": "subslide"
    }
   },
   "source": [
    "![okey-then-what](images/okey_then_what.jpg)"
   ]
  },
  {
   "cell_type": "markdown",
   "metadata": {
    "slideshow": {
     "slide_type": "subslide"
    }
   },
   "source": [
    "## Non-Trivial Application: Array Elements Traversal"
   ]
  },
  {
   "cell_type": "markdown",
   "metadata": {
    "slideshow": {
     "slide_type": "fragment"
    }
   },
   "source": [
    "- reduce functions along axis\n",
    "    - ex: `mean`, `sum`, `std`, ...etc"
   ]
  },
  {
   "cell_type": "markdown",
   "metadata": {
    "slideshow": {
     "slide_type": "fragment"
    }
   },
   "source": [
    "- Let's see an example, `argmin`"
   ]
  },
  {
   "cell_type": "markdown",
   "metadata": {
    "slideshow": {
     "slide_type": "subslide"
    }
   },
   "source": [
    "```cpp\n",
    "static py::array argmin(const py::array &in_arr, int32_t axis = -1);\n",
    "```"
   ]
  },
  {
   "cell_type": "markdown",
   "metadata": {
    "slideshow": {
     "slide_type": "subslide"
    }
   },
   "source": [
    "```cpp\n",
    "template <typename T>\n",
    "py::buffer_info argmin_impl_(const py::array &in_arr,\n",
    "                             int32_t axis = -1) noexcept;\n",
    "```"
   ]
  },
  {
   "cell_type": "markdown",
   "metadata": {
    "slideshow": {
     "slide_type": "subslide"
    }
   },
   "source": [
    "![reduce-shape](images/reduce_shape.drawio.svg)"
   ]
  },
  {
   "cell_type": "markdown",
   "metadata": {
    "slideshow": {
     "slide_type": "subslide"
    }
   },
   "source": [
    "![reduce-inner-outer-loop](images/reduce_inner_outer_loop.drawio.svg)"
   ]
  },
  {
   "cell_type": "markdown",
   "metadata": {
    "slideshow": {
     "slide_type": "subslide"
    }
   },
   "source": [
    "```cpp\n",
    "int64_t *out_data = (int64_t *)malloc(\n",
    "    sizeof(int64_t) * static_cast<size_t>(outer_size * inner_size));\n",
    "T *in_data = (T *)in_info.ptr;\n",
    "for (size_t outer = 0; outer < outer_size; ++outer) {\n",
    "  for (size_t inner = 0; inner < inner_size; ++inner) {\n",
    "    T min_value = in_data[outer * axis_size * inner_size + inner];\n",
    "    int64_t min_idx = 0;\n",
    "    for (size_t i = 0; i < axis_size; ++i) {\n",
    "      T value = in_data[(outer * axis_size + i) * inner_size + inner];\n",
    "      if (value <= min_value) {\n",
    "        min_value = value;\n",
    "        min_idx = static_cast<int64_t>(i);\n",
    "      }\n",
    "    }\n",
    "    out_data[outer * inner_size + inner] = min_idx;\n",
    "  }\n",
    "}\n",
    "```"
   ]
  },
  {
   "cell_type": "markdown",
   "metadata": {
    "slideshow": {
     "slide_type": "subslide"
    }
   },
   "source": [
    "Let's change from `py::array_<T>` to `py::array`!\n",
    "\n",
    "```cpp\n",
    "py::array array_add_value(const py::array &in_arr, double v = 1.0) {\n",
    "  auto info = in_arr.request();\n",
    "  double *out_buff = new double[info.size];\n",
    "  auto in_ptr = (double *)info.ptr;\n",
    "  for (py::ssize_t idx = 0; idx < info.size; ++idx) {\n",
    "    *(out_buff + idx) = *(in_ptr + idx) + v;\n",
    "  }\n",
    "  auto out_info = py::buffer_info(out_buff, info.itemsize, info.format,\n",
    "                                  info.ndim, info.shape, info.strides);\n",
    "  return py::array(out_info);\n",
    "}\n",
    "```"
   ]
  },
  {
   "cell_type": "code",
   "execution_count": 1,
   "metadata": {
    "ExecuteTime": {
     "end_time": "2022-03-10T07:18:15.434919Z",
     "start_time": "2022-03-10T07:18:15.251529Z"
    },
    "slideshow": {
     "slide_type": "subslide"
    }
   },
   "outputs": [
    {
     "name": "stdout",
     "output_type": "stream",
     "text": [
      "array_add_value(input_array: numpy.ndarray, value: float = 0.0) -> numpy.ndarray\n",
      "\n",
      "add by given value\n",
      "\n"
     ]
    }
   ],
   "source": [
    "import mylib\n",
    "\n",
    "print(mylib.array_add_value.__doc__)"
   ]
  },
  {
   "cell_type": "code",
   "execution_count": 2,
   "metadata": {
    "ExecuteTime": {
     "end_time": "2022-03-10T07:18:17.354379Z",
     "start_time": "2022-03-10T07:18:17.342623Z"
    },
    "slideshow": {
     "slide_type": "fragment"
    }
   },
   "outputs": [
    {
     "data": {
      "text/plain": [
       "array([3.64004604, 3.33775629, 3.14665428, 3.20065878, 3.7822936 ])"
      ]
     },
     "execution_count": 2,
     "metadata": {},
     "output_type": "execute_result"
    }
   ],
   "source": [
    "arr_in = np.random.rand(5)\n",
    "mylib.array_add_value(arr_in, 3.1)"
   ]
  },
  {
   "cell_type": "code",
   "execution_count": 3,
   "metadata": {
    "ExecuteTime": {
     "end_time": "2022-03-10T07:18:18.912075Z",
     "start_time": "2022-03-10T07:18:18.903291Z"
    },
    "slideshow": {
     "slide_type": "fragment"
    }
   },
   "outputs": [
    {
     "data": {
      "text/plain": [
       "array([              nan, -1.13644336e+0987,  1.68195440e-4932,\n",
       "                     nan,  0.00000000e+0000], dtype=float128)"
      ]
     },
     "execution_count": 3,
     "metadata": {},
     "output_type": "execute_result"
    }
   ],
   "source": [
    "mylib.array_add_value(arr_in.astype(np.float128), 3.1)"
   ]
  },
  {
   "cell_type": "markdown",
   "metadata": {
    "slideshow": {
     "slide_type": "slide"
    }
   },
   "source": [
    "# Refereces\n",
    "\n",
    "- `pybind11` buffer protocol\n",
    "    - [test_buffers.cpp](https://github.com/pybind/pybind11/blob/ffa346860b306c9bbfb341aed9c14c067751feb8/tests/test_buffers.cpp)\n",
    "    - [test_buffers.py](https://github.com/pybind/pybind11/blob/ffa346860b306c9bbfb341aed9c14c067751feb8/tests/test_buffers.py)\n",
    "- `uTensor`\n",
    "    - https://github.com/uTensor/uTensor"
   ]
  }
 ],
 "metadata": {
  "celltoolbar": "Slideshow",
  "kernelspec": {
   "display_name": "Python 3",
   "language": "python",
   "name": "python3"
  },
  "language_info": {
   "codemirror_mode": {
    "name": "ipython",
    "version": 3
   },
   "file_extension": ".py",
   "mimetype": "text/x-python",
   "name": "python",
   "nbconvert_exporter": "python",
   "pygments_lexer": "ipython3",
   "version": "3.8.1"
  },
  "varInspector": {
   "cols": {
    "lenName": 16,
    "lenType": 16,
    "lenVar": 40
   },
   "kernels_config": {
    "python": {
     "delete_cmd_postfix": "",
     "delete_cmd_prefix": "del ",
     "library": "var_list.py",
     "varRefreshCmd": "print(var_dic_list())"
    },
    "r": {
     "delete_cmd_postfix": ") ",
     "delete_cmd_prefix": "rm(",
     "library": "var_list.r",
     "varRefreshCmd": "cat(var_dic_list()) "
    }
   },
   "types_to_exclude": [
    "module",
    "function",
    "builtin_function_or_method",
    "instance",
    "_Feature"
   ],
   "window_display": false
  }
 },
 "nbformat": 4,
 "nbformat_minor": 4
}
